{
 "cells": [
  {
   "cell_type": "markdown",
   "metadata": {},
   "source": [
    "#### Exercise 1 - Class Inheritance"
   ]
  },
  {
   "cell_type": "markdown",
   "metadata": {},
   "source": [
    "Create an Employee class that sets an employee's first name, last name, job title, salary, and email. The Employee class should have a class attribute for the raise amount set to 5% (1.05). Create a method that will apply the raise to an employee's salary."
   ]
  },
  {
   "cell_type": "code",
   "execution_count": 45,
   "metadata": {},
   "outputs": [
    {
     "name": "stdout",
     "output_type": "stream",
     "text": [
      "Salary after raise is: $52500\n"
     ]
    }
   ],
   "source": [
    "class employee:\n",
    "    raise_amt = 1.05\n",
    "    def __init__(self, firstname, lastname, jobtitle, salary, email):\n",
    "        self.firstname = firstname\n",
    "        self.lastname = lastname\n",
    "        self.jobtitle = jobtitle\n",
    "        self.salary = int(salary)\n",
    "        self.email = email\n",
    "    def amt_inc(self):\n",
    "        self.salary = int(self.salary * self.raise_amt)\n",
    "        return f\"Salary after raise is: ${self.salary}\"\n",
    "employee1 = employee('Keyur', 'Patel', 'Software Engineer ', 50000, 'test@test.com')\n",
    "print(employee1.amt_inc())\n"
   ]
  },
  {
   "cell_type": "markdown",
   "metadata": {},
   "source": [
    "Create two more classes that inherit from the Employee class. One for Sales and one for Development. Both of these classes will have the same attributes as the Employee.<br>\n",
    "- For the Sales employees, add a phone number attribute on instantiation using the super method. \n",
    "- Create a method on the Sales class that will Send a Follow Up Email. It should take in a customer name and \"send\" aka print a formatted email \"Dear *customer*, Thank you for your interest in our product. Please let me know if you have any questions. My email is *email* or my phone number is *phone number*. Thanks, *full name*\"\n",
    "- Create a method on the Development class called code that will print out \"*full name* is writing code\"."
   ]
  },
  {
   "cell_type": "code",
   "execution_count": 67,
   "metadata": {},
   "outputs": [],
   "source": [
    "class Sales(Employee):\n",
    "    def __init__(self, first, last, phone, salary):\n",
    "        self.phone = phone\n",
    "        super().__init__(first, last, 'Sales', salary)\n",
    "        \n",
    "    def send(self, customer):\n",
    "        self.customer = customer\n",
    "        return f'Dear {self.customer} Thank you for showing interest in our product. If you have any questions reach out to me on- {self.email} or {self.phone}. Thanks, { self.first} { self.last}'\n",
    "\n",
    "class Development(Employee):\n",
    "    def __init__(self, first, last, phone, salary):\n",
    "        self.phone = phone\n",
    "        super().__init__(first, last, 'Development', salary)\n",
    "    def coding(self):\n",
    "        code = print(f'{self.first } {self.last }')\n",
    "        "
   ]
  },
  {
   "cell_type": "markdown",
   "metadata": {},
   "source": [
    "- Create an instance of a Sales Employee with a salary of $50,000.\n",
    "- Send follow up emails to \"Mike O'Neil\" and \"Hannah Stern\"\n",
    "- Give the employee a raise and print the salary"
   ]
  },
  {
   "cell_type": "code",
   "execution_count": 68,
   "metadata": {},
   "outputs": [
    {
     "data": {
      "text/plain": [
       "'Dear Steve Rogers Thank you for showing interest in our product. If you have any questions reach out to me on- Tony.Stark@company.org or 999-888-7777. Thanks, Tony Stark'"
      ]
     },
     "execution_count": 68,
     "metadata": {},
     "output_type": "execute_result"
    }
   ],
   "source": [
    "emp1 = Sales('Tony', 'Stark', '999-888-7777', 50000)\n",
    "emp1.send(\"Steve Rogers\")"
   ]
  },
  {
   "cell_type": "code",
   "execution_count": 69,
   "metadata": {},
   "outputs": [
    {
     "data": {
      "text/plain": [
       "'Salary after raise is: $70353'"
      ]
     },
     "execution_count": 69,
     "metadata": {},
     "output_type": "execute_result"
    }
   ],
   "source": [
    "employee1.amt_inc()"
   ]
  },
  {
   "cell_type": "markdown",
   "metadata": {},
   "source": [
    "- Create an instance of a Development Employee with a salary of $100,000\n",
    "- Write some code with this employee\n",
    "- Give the employee a raise and print the salary"
   ]
  },
  {
   "cell_type": "code",
   "execution_count": 70,
   "metadata": {},
   "outputs": [
    {
     "name": "stdout",
     "output_type": "stream",
     "text": [
      "Peter Parker\n"
     ]
    }
   ],
   "source": [
    "emp2 = Development('Peter', 'Parker', '111-222-3333', 100000)\n",
    "emp2.coding()"
   ]
  },
  {
   "cell_type": "code",
   "execution_count": 60,
   "metadata": {},
   "outputs": [
    {
     "name": "stdout",
     "output_type": "stream",
     "text": [
      "105000\n"
     ]
    }
   ],
   "source": [
    "print(emp2.salary)\n",
    "emp2.apply_raise()"
   ]
  },
  {
   "cell_type": "markdown",
   "metadata": {},
   "source": [
    "#### Exercise 2 - Importing Modules"
   ]
  },
  {
   "cell_type": "markdown",
   "metadata": {},
   "source": [
    "In VS Code, create a module titled `geometry` and add two functions in there. One that will calculate the area of a circle given a radius. The second will find the hypotenuse of a right angle given the two sides. Import the module or the functions from the module and use it to find the answers to the below questions"
   ]
  },
  {
   "cell_type": "markdown",
   "metadata": {},
   "source": [
    "What is the area of a circle with a radius of 7cm?"
   ]
  },
  {
   "cell_type": "code",
   "execution_count": null,
   "metadata": {},
   "outputs": [],
   "source": []
  },
  {
   "cell_type": "markdown",
   "metadata": {},
   "source": [
    "What is the hypotenuse of a right angle with sides of 3in and 4in?"
   ]
  },
  {
   "cell_type": "code",
   "execution_count": null,
   "metadata": {},
   "outputs": [],
   "source": []
  }
 ],
 "metadata": {
  "kernelspec": {
   "display_name": "Python 3 (ipykernel)",
   "language": "python",
   "name": "python3"
  },
  "language_info": {
   "codemirror_mode": {
    "name": "ipython",
    "version": 3
   },
   "file_extension": ".py",
   "mimetype": "text/x-python",
   "name": "python",
   "nbconvert_exporter": "python",
   "pygments_lexer": "ipython3",
   "version": "3.9.7"
  }
 },
 "nbformat": 4,
 "nbformat_minor": 4
}
